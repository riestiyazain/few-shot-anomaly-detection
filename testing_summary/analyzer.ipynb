{
 "cells": [
  {
   "cell_type": "code",
   "execution_count": 146,
   "metadata": {},
   "outputs": [],
   "source": [
    "import os\n",
    "import glob\n",
    "import pandas as pd\n",
    "\n",
    "dataset = \"Paris\""
   ]
  },
  {
   "cell_type": "code",
   "execution_count": 147,
   "metadata": {},
   "outputs": [
    {
     "name": "stdout",
     "output_type": "stream",
     "text": [
      "['defense', 'eiffel', 'invalides', 'louvre', 'moulinrouge', 'museedorsay', 'notredame', 'pantheon', 'pompidou', 'sacrecoeur', 'triomphe']\n"
     ]
    }
   ],
   "source": [
    "files = glob.glob(f\"{dataset}/*_1_*.txt\")\n",
    "classes_txt = []\n",
    "for f in files:\n",
    "    n = []\n",
    "    with open(f) as t:\n",
    "        content = t.read()\n",
    "        classes_txt.append(content.split(\"\\n\")[0])\n",
    "        # content = content.split(\"\\n\")[9:-3]\n",
    "        # for i in content:\n",
    "        #     n.append(i.split(\"=\")[-1].strip())\n",
    "        # print(\"\\t\".join(n))\n",
    "    \n",
    "classes = []\n",
    "for c in classes_txt:\n",
    "    classes.append(c.split(\" \")[0])\n",
    "\n",
    "print(classes)"
   ]
  },
  {
   "cell_type": "code",
   "execution_count": 148,
   "metadata": {},
   "outputs": [
    {
     "name": "stdout",
     "output_type": "stream",
     "text": [
      "defense results:  1\n",
      "0.5355996229302148\t0.021473666031911167\t0.534787234754445\t0.04128941099765286\n",
      "defense results:  5\n",
      "0.6035487887706589\t0.030407601563074822\t0.6015939294731294\t0.05788919049038043\n",
      "defense results:  10\n",
      "0.7011622998652192\t0.042643354059851\t0.6971373962587752\t0.08037050654324683\n",
      "eiffel results:  1\n",
      "0.5042288334016954\t0.0606803354647825\t0.504448595208832\t0.1083296512373698\n",
      "eiffel results:  5\n",
      "0.4908595853216097\t0.05531531514793624\t0.49155722839659827\t0.09944051250321964\n",
      "eiffel results:  10\n",
      "0.5452185527240437\t0.0624132240987422\t0.5428240160091864\t0.11195410563738295\n",
      "invalides results:  1\n",
      "0.6068376155724226\t0.04681961192195018\t0.6029123047931273\t0.08689159146159492\n",
      "invalides results:  5\n",
      "0.5700358114853369\t0.053901720245621\t0.5676015363916933\t0.09845386616670176\n",
      "invalides results:  10\n",
      "0.6542328302969814\t0.05643059081467121\t0.6487572797061647\t0.10382979662454671\n",
      "louvre results:  1\n",
      "0.6347542746475059\t0.04406456904253681\t0.631093826909805\t0.08237734337572795\n",
      "louvre results:  5\n",
      "0.5987337683926552\t0.038242016972000484\t0.5962454898448019\t0.0718741658335197\n",
      "louvre results:  10\n",
      "0.6646149588534598\t0.047727198400668726\t0.6603385867303354\t0.08902028992875258\n",
      "moulinrouge results:  1\n",
      "0.663495865892582\t0.06901775279163062\t0.6557427465323803\t0.12489061094606858\n",
      "moulinrouge results:  5\n",
      "0.8021247341021048\t0.10268290912553349\t0.7886114478204673\t0.18170633977616543\n",
      "moulinrouge results:  10\n",
      "0.8794785885920248\t0.12666668468133555\t0.8625728790567345\t0.2208954249126266\n",
      "museedorsay results:  1\n",
      "0.7266062505012403\t0.022454165746713283\t0.7234757272530974\t0.04355648981470461\n",
      "museedorsay results:  5\n",
      "0.8605255677239172\t0.03607202971985741\t0.8558508680137861\t0.06922633789356643\n",
      "museedorsay results:  10\n",
      "0.9009741390776714\t0.039663962873267906\t0.8965283700396328\t0.07596701390074666\n",
      "notredame results:  1\n",
      "0.467217698865354\t0.01891403576199007\t0.46801270939752065\t0.03635868931254031\n",
      "notredame results:  5\n",
      "0.6962914867430169\t0.037380002596094704\t0.6921153145049457\t0.07092923462703575\n",
      "notredame results:  10\n",
      "0.7554998600035636\t0.04385823219660776\t0.7502051022300855\t0.08287165051498667\n",
      "pantheon results:  1\n",
      "0.646855328438182\t0.033930857213824016\t0.6430692800310498\t0.06446052436009422\n",
      "pantheon results:  5\n",
      "0.6717192674002287\t0.03937183428913543\t0.6678292663744385\t0.074359791534424\n",
      "pantheon results:  10\n",
      "0.7496116498210509\t0.047310139479477514\t0.743903174773422\t0.08896251446675592\n",
      "pompidou results:  1\n",
      "0.7666073523660539\t0.02362935496934774\t0.763986027556763\t0.04584089502889354\n",
      "pompidou results:  5\n",
      "0.8433520089779123\t0.025891370041114095\t0.8403826830030313\t0.050235047316295287\n",
      "pompidou results:  10\n",
      "0.7270214714270724\t0.01313532850481634\t0.7253442324469901\t0.025803381098280273\n",
      "sacrecoeur results:  1\n",
      "0.5908242273373853\t0.03715923417404555\t0.5884646047172731\t0.06990428653926324\n",
      "sacrecoeur results:  5\n",
      "0.6419305444798865\t0.03837396792645533\t0.6382050991562548\t0.07239497406007823\n",
      "sacrecoeur results:  10\n",
      "0.803681456748477\t0.05822819550540759\t0.7955486310795843\t0.10851398112982165\n",
      "triomphe results:  1\n",
      "0.489370904995905\t0.049693990549987736\t0.48979789858889416\t0.09023309760126712\n",
      "triomphe results:  5\n",
      "0.6109163758620281\t0.07413981448103758\t0.6050745747732077\t0.13209412942541818\n",
      "triomphe results:  10\n",
      "0.556810626460073\t0.06333453601076036\t0.5539423998439051\t0.11367243074528574\n"
     ]
    }
   ],
   "source": [
    "for c in classes:\n",
    "    for n in (1, 5, 10):\n",
    "        files = glob.glob(f\"{dataset}/*_{n}_*_{c}_*.txt\")\n",
    "        for f in files:\n",
    "            stat = []\n",
    "            with open(f) as t:\n",
    "                content = t.read()\n",
    "                print(content.split(\"\\n\")[0], n)\n",
    "                content = content.split(\"\\n\")[9:-3]\n",
    "                for i in content:\n",
    "                    stat.append(i.split(\"=\")[-1].strip())\n",
    "                print(\"\\t\".join(stat))\n",
    "        "
   ]
  }
 ],
 "metadata": {
  "kernelspec": {
   "display_name": "imt4392",
   "language": "python",
   "name": "python3"
  },
  "language_info": {
   "codemirror_mode": {
    "name": "ipython",
    "version": 3
   },
   "file_extension": ".py",
   "mimetype": "text/x-python",
   "name": "python",
   "nbconvert_exporter": "python",
   "pygments_lexer": "ipython3",
   "version": "3.8.18"
  }
 },
 "nbformat": 4,
 "nbformat_minor": 2
}
