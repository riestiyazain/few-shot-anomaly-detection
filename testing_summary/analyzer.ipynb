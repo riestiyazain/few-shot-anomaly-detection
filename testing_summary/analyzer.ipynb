{
 "cells": [
  {
   "cell_type": "code",
   "execution_count": 33,
   "metadata": {},
   "outputs": [],
   "source": [
    "import os\n",
    "import glob\n",
    "import pandas as pd"
   ]
  },
  {
   "cell_type": "code",
   "execution_count": 30,
   "metadata": {},
   "outputs": [],
   "source": [
    "files = glob.glob(\"Paris/*_5_*.txt\")"
   ]
  },
  {
   "cell_type": "code",
   "execution_count": 65,
   "metadata": {},
   "outputs": [
    {
     "name": "stdout",
     "output_type": "stream",
     "text": [
      "defense results: \n",
      "0.6035487887706589 0.030407601563074822 0.6015939294731294 0.05788919049038043\n"
     ]
    }
   ],
   "source": [
    "for f in files:\n",
    "    n = []\n",
    "    with open(f) as t:\n",
    "        content = t.read()\n",
    "        print(content.split(\"\\n\")[0])\n",
    "        content = content.split(\"\\n\")[9:-3]\n",
    "        for i in content:\n",
    "            n.append(i.split(\"=\")[-1].strip())\n",
    "        print(\" \".join(n))"
   ]
  }
 ],
 "metadata": {
  "kernelspec": {
   "display_name": "imt4392",
   "language": "python",
   "name": "python3"
  },
  "language_info": {
   "codemirror_mode": {
    "name": "ipython",
    "version": 3
   },
   "file_extension": ".py",
   "mimetype": "text/x-python",
   "name": "python",
   "nbconvert_exporter": "python",
   "pygments_lexer": "ipython3",
   "version": "3.8.18"
  }
 },
 "nbformat": 4,
 "nbformat_minor": 2
}
